{
  "cells": [
    {
      "cell_type": "code",
      "execution_count": null,
      "metadata": {
        "colab": {
          "base_uri": "https://localhost:8080/"
        },
        "id": "IPRiljvC7WhL",
        "outputId": "60eda671-e25d-4d4d-914f-467e7240cbe1"
      },
      "outputs": [
        {
          "output_type": "stream",
          "name": "stdout",
          "text": [
            "Mounted at /content/drive\n"
          ]
        }
      ],
      "source": [
        "from google.colab import drive\n",
        "drive.mount('/content/drive')"
      ]
    },
    {
      "cell_type": "code",
      "execution_count": null,
      "metadata": {
        "colab": {
          "base_uri": "https://localhost:8080/"
        },
        "id": "W9p3cae86iNA",
        "outputId": "23ae245b-ff80-4cfa-b047-8aa342deac78"
      },
      "outputs": [
        {
          "output_type": "stream",
          "name": "stdout",
          "text": [
            "/content/drive/MyDrive\n"
          ]
        }
      ],
      "source": [
        "%cd /content/drive/MyDrive/"
      ]
    },
    {
      "cell_type": "code",
      "execution_count": null,
      "metadata": {
        "colab": {
          "base_uri": "https://localhost:8080/"
        },
        "id": "VDIkhDTptGg9",
        "outputId": "475f649e-793b-450e-b456-c7954e5bbe5f"
      },
      "outputs": [
        {
          "output_type": "stream",
          "name": "stdout",
          "text": [
            "fatal: destination path 'A_Needle_In_A_Data_Haystack' already exists and is not an empty directory.\n"
          ]
        }
      ],
      "source": [
        "!git clone https://github.com/leinkarin/A_Needle_In_A_Data_Haystack.git"
      ]
    },
    {
      "cell_type": "code",
      "execution_count": null,
      "metadata": {
        "colab": {
          "base_uri": "https://localhost:8080/"
        },
        "id": "eDNUn43LGFNk",
        "outputId": "c4f98055-5827-492e-cd41-d6c16e3cd985"
      },
      "outputs": [
        {
          "output_type": "stream",
          "name": "stdout",
          "text": [
            "/content/drive/MyDrive/A_Needle_In_A_Data_Haystack\n"
          ]
        }
      ],
      "source": [
        "%cd A_Needle_In_A_Data_Haystack"
      ]
    },
    {
      "cell_type": "code",
      "execution_count": null,
      "metadata": {
        "colab": {
          "base_uri": "https://localhost:8080/"
        },
        "id": "CwMkehN-NRuE",
        "outputId": "04a31a7c-5e3e-4ad4-dedb-8eb68fe51485"
      },
      "outputs": [
        {
          "output_type": "stream",
          "name": "stdout",
          "text": [
            "Already on 'test-without-rating'\n",
            "Your branch is up to date with 'origin/test-without-rating'.\n"
          ]
        }
      ],
      "source": [
        "!git checkout test-without-rating"
      ]
    },
    {
      "cell_type": "code",
      "execution_count": null,
      "metadata": {
        "colab": {
          "base_uri": "https://localhost:8080/"
        },
        "id": "wGw3LNDjGBXe",
        "outputId": "79462b02-f16b-46e2-fa8a-df1ff3a59d34"
      },
      "outputs": [
        {
          "output_type": "stream",
          "name": "stdout",
          "text": [
            "Already up to date.\n"
          ]
        }
      ],
      "source": [
        "!git pull"
      ]
    },
    {
      "cell_type": "markdown",
      "metadata": {
        "id": "JI_Mk-VHicY6"
      },
      "source": [
        "#Paramters selection"
      ]
    },
    {
      "cell_type": "code",
      "execution_count": null,
      "metadata": {
        "colab": {
          "base_uri": "https://localhost:8080/"
        },
        "id": "W8ejqhoL6qaP",
        "outputId": "2e690d8c-cf72-4e94-a064-8e392c8f87e7",
        "collapsed": true
      },
      "outputs": [
        {
          "output_type": "stream",
          "name": "stdout",
          "text": [
            "Detected category: Clothing Shoes And Jewelry\n",
            "Loading data from: my_data/test/clothing_shoes_and_jewelry_test.csv\n",
            "Loaded 499058 reviews from CSV\n",
            "=== CHECKING FOR EXTREME OUTLIERS ===\n",
            "\n",
            "HELPFUL_VOTE:\n",
            "  Min: 0\n",
            "  Max: 1749\n",
            "  95th percentile: 3.00\n",
            "  99th percentile: 14.00\n",
            "  99.9th percentile: 74.00\n",
            "  Max/95th ratio: 583.0x\n",
            "  🚨 PROBLEM: Extreme outliers detected!\n",
            "     Top 5 values: [1749, 1216, 1208, 1186, 970]\n",
            "\n",
            "REVIEWER_REVIEW_COUNT:\n",
            "  Min: 1\n",
            "  Max: 4293\n",
            "  95th percentile: 862.00\n",
            "  99th percentile: 2919.00\n",
            "  99.9th percentile: 4293.00\n",
            "  Max/95th ratio: 5.0x\n",
            "  ✅ Outliers look reasonable\n",
            "\n",
            "Building features from data...\n",
            "Created features of shape: (499058, 6)\n",
            "Features: helpful_votes, verified_purchase, has_images, rating_diff, reviewer_review_count, rating_vs_product_avg_abs\n",
            "Computing k-distance curve with k=12...\n",
            "Creating k-distance plot...\n",
            "\n",
            "K-distance statistics for k=12:\n",
            "  Min distance: 0.0000\n",
            "  Max distance: 4.2872\n",
            "  25th percentile: 0.0026\n",
            "  50th percentile: 0.0115\n",
            "  75th percentile: 0.0470\n",
            "  90th percentile: 0.1471\n",
            "  95th percentile: 0.2503\n",
            "  99th percentile: 0.5772\n",
            "K-distance plot saved to: clothing_shoes_and_jewelry_k_12_distance_plot for k=12\n"
          ]
        }
      ],
      "source": [
        "!python src/dbscan_parameter_selection.py --csv-path my_data/test/clothing_shoes_and_jewelry_test.csv --min-samples 12 --plot clothing_shoes_and_jewelry_k_12_distance_plot"
      ]
    },
    {
      "cell_type": "code",
      "source": [
        "!python src/dbscan_parameter_selection.py --csv-path my_data/test/books_test.csv --min-samples 12 --plot books_k_12_distance_plot"
      ],
      "metadata": {
        "colab": {
          "base_uri": "https://localhost:8080/"
        },
        "id": "OkQPjNX-F0fP",
        "outputId": "d26ee426-6e8a-4c25-e7eb-c372b2b879a6",
        "collapsed": true
      },
      "execution_count": null,
      "outputs": [
        {
          "output_type": "stream",
          "name": "stdout",
          "text": [
            "Detected category: Books\n",
            "Loading data from: my_data/test/books_test.csv\n",
            "Loaded 298409 reviews from CSV\n",
            "=== CHECKING FOR EXTREME OUTLIERS ===\n",
            "\n",
            "HELPFUL_VOTE:\n",
            "  Min: 0\n",
            "  Max: 3567\n",
            "  95th percentile: 5.00\n",
            "  99th percentile: 19.00\n",
            "  99.9th percentile: 85.00\n",
            "  Max/95th ratio: 713.4x\n",
            "  🚨 PROBLEM: Extreme outliers detected!\n",
            "     Top 5 values: [3567, 1813, 1325, 1295, 878]\n",
            "\n",
            "REVIEWER_REVIEW_COUNT:\n",
            "  Min: 1\n",
            "  Max: 3838\n",
            "  95th percentile: 468.00\n",
            "  99th percentile: 2421.00\n",
            "  99.9th percentile: 3838.00\n",
            "  Max/95th ratio: 8.2x\n",
            "  ✅ Outliers look reasonable\n",
            "\n",
            "Building features from data...\n",
            "Created features of shape: (298409, 6)\n",
            "Features: helpful_votes, verified_purchase, has_images, rating_diff, reviewer_review_count, rating_vs_product_avg_abs\n",
            "Computing k-distance curve with k=12...\n",
            "Creating k-distance plot...\n",
            "\n",
            "K-distance statistics for k=12:\n",
            "  Min distance: 0.0000\n",
            "  Max distance: 5.4901\n",
            "  25th percentile: 0.0043\n",
            "  50th percentile: 0.0171\n",
            "  75th percentile: 0.0782\n",
            "  90th percentile: 0.2125\n",
            "  95th percentile: 0.3612\n",
            "  99th percentile: 0.7343\n",
            "K-distance plot saved to: books_k_12_distance_plot for k=12\n"
          ]
        }
      ]
    },
    {
      "cell_type": "code",
      "source": [
        "!python src/dbscan_parameter_selection.py --csv-path my_data/test/electronics_test.csv --min-samples 12 --plot electronics_k_12_distance_plot"
      ],
      "metadata": {
        "colab": {
          "base_uri": "https://localhost:8080/"
        },
        "id": "4Q9Dys5gwylm",
        "outputId": "e7774915-6118-4e56-edd9-61bda4c9a220",
        "collapsed": true
      },
      "execution_count": null,
      "outputs": [
        {
          "output_type": "stream",
          "name": "stdout",
          "text": [
            "Detected category: Electronics\n",
            "Loading data from: my_data/test/electronics_test.csv\n",
            "Loaded 493299 reviews from CSV\n",
            "=== CHECKING FOR EXTREME OUTLIERS ===\n",
            "\n",
            "HELPFUL_VOTE:\n",
            "  Min: 0\n",
            "  Max: 8722\n",
            "  95th percentile: 4.00\n",
            "  99th percentile: 16.00\n",
            "  99.9th percentile: 95.00\n",
            "  Max/95th ratio: 2180.5x\n",
            "  🚨 PROBLEM: Extreme outliers detected!\n",
            "     Top 5 values: [8722, 6386, 4229, 2636, 2608]\n",
            "\n",
            "REVIEWER_REVIEW_COUNT:\n",
            "  Min: 1\n",
            "  Max: 1030\n",
            "  95th percentile: 91.00\n",
            "  99th percentile: 305.00\n",
            "  99.9th percentile: 1030.00\n",
            "  Max/95th ratio: 11.3x\n",
            "  🚨 PROBLEM: Extreme outliers detected!\n",
            "     Top 5 values: [1030, 1030, 1030, 1030, 1030]\n",
            "\n",
            "Building features from data...\n",
            "Created features of shape: (493299, 6)\n",
            "Features: helpful_votes, verified_purchase, has_images, rating_diff, reviewer_review_count, rating_vs_product_avg_abs\n",
            "Computing k-distance curve with k=12...\n",
            "Creating k-distance plot...\n",
            "\n",
            "K-distance statistics for k=12:\n",
            "  Min distance: 0.0000\n",
            "  Max distance: 5.6064\n",
            "  25th percentile: 0.0021\n",
            "  50th percentile: 0.0226\n",
            "  75th percentile: 0.0734\n",
            "  90th percentile: 0.1825\n",
            "  95th percentile: 0.3110\n",
            "  99th percentile: 0.6630\n",
            "K-distance plot saved to: electronics_k_12_distance_plot for k=12\n"
          ]
        }
      ]
    },
    {
      "cell_type": "markdown",
      "metadata": {
        "id": "PKKxQq5mAi-j"
      },
      "source": [
        "#Anomaly **detection**"
      ]
    },
    {
      "cell_type": "code",
      "execution_count": null,
      "metadata": {
        "colab": {
          "base_uri": "https://localhost:8080/"
        },
        "id": "zmFo_cJFDd1W",
        "outputId": "fa2e4d55-a4cd-4372-8d09-e252259aa6eb"
      },
      "outputs": [
        {
          "output_type": "stream",
          "name": "stdout",
          "text": [
            "Loading data from: my_data/test/clothing_shoes_and_jewelry_test.csv\n",
            "Loaded 499058 reviews from CSV\n",
            "Building features from data...\n",
            "Created features of shape: (499058, 6)\n",
            "Features: helpful_votes, verified_purchase, has_images, rating_diff, reviewer_review_count, rating_vs_product_avg_abs\n",
            "Processing batches:   0% 0/5 [00:00<?, ?batch/s]Batch input size: 4.6MB\n",
            "After DBSCAN creation: +0.0GB\n",
            "After fit_predict: +9.1GB\n",
            "Processing batches:  20% 1/5 [01:14<04:58, 74.70s/batch]Batch input size: 4.6MB\n",
            "After DBSCAN creation: +0.0GB\n",
            "After fit_predict: +0.2GB\n",
            "Processing batches:  40% 2/5 [02:26<03:39, 73.23s/batch]Batch input size: 4.6MB\n",
            "After DBSCAN creation: +0.0GB\n",
            "After fit_predict: +3.3GB\n",
            "Processing batches:  60% 3/5 [03:54<02:39, 79.76s/batch]Batch input size: 4.6MB\n",
            "After DBSCAN creation: +0.0GB\n",
            "After fit_predict: +5.6GB\n",
            "Processing batches:  80% 4/5 [05:32<01:26, 86.89s/batch]Batch input size: 4.5MB\n",
            "After DBSCAN creation: +0.0GB\n",
            "After fit_predict: +0.0GB\n",
            "Processing batches: 100% 5/5 [07:03<00:00, 84.70s/batch]\n",
            "Saved 4425 anomalies to output/clothing_shoes_and_jewelry_test_scan_anomalies_eps_0.55_min_samples_12_batch_size_100000.csv\n",
            "\n",
            "DBSCAN Results:\n",
            "  Total points: 499058\n",
            "  Noise points (anomalies): 4425\n",
            "  Clusters found: 18\n",
            "  Features used: helpful_votes, verified_purchase, has_images, rating_diff, reviewer_review_count, rating_vs_product_avg_abs\n"
          ]
        }
      ],
      "source": [
        "!python src/db_scan_anomaly_detection.py --csv-path my_data/test/clothing_shoes_and_jewelry_test.csv --out output/clothing_shoes_and_jewelry_test_scan_anomalies --eps 0.55 --min-samples 12 --batch-size 100000"
      ]
    },
    {
      "cell_type": "code",
      "execution_count": null,
      "metadata": {
        "colab": {
          "base_uri": "https://localhost:8080/"
        },
        "id": "jZxkrBhO7fn6",
        "outputId": "2f79d30d-0fb2-4077-9843-eb76093c3fd4"
      },
      "outputs": [
        {
          "output_type": "stream",
          "name": "stdout",
          "text": [
            "Loading data from: my_data/test/electronics_test.csv\n",
            "Loaded 493299 reviews from CSV\n",
            "Building features from data...\n",
            "Created features of shape: (493299, 6)\n",
            "Features: helpful_votes, verified_purchase, has_images, rating_diff, reviewer_review_count, rating_vs_product_avg_abs\n",
            "Processing batches:   0% 0/5 [00:00<?, ?batch/s]Batch input size: 4.6MB\n",
            "After DBSCAN creation: +0.0GB\n",
            "After fit_predict: +11.4GB\n",
            "Processing batches:  20% 1/5 [01:38<06:32, 98.17s/batch]Batch input size: 4.6MB\n",
            "After DBSCAN creation: +0.0GB\n",
            "After fit_predict: +4.8GB\n",
            "Processing batches:  40% 2/5 [03:41<05:39, 113.14s/batch]Batch input size: 4.6MB\n",
            "After DBSCAN creation: +0.0GB\n",
            "After fit_predict: +0.7GB\n",
            "Processing batches:  60% 3/5 [05:40<03:51, 115.86s/batch]Batch input size: 4.6MB\n",
            "After DBSCAN creation: +0.0GB\n",
            "After fit_predict: +0.0GB\n",
            "Processing batches:  80% 4/5 [07:31<01:53, 113.66s/batch]Batch input size: 4.3MB\n",
            "After DBSCAN creation: +0.0GB\n",
            "After fit_predict: +0.0GB\n",
            "Processing batches: 100% 5/5 [09:14<00:00, 110.91s/batch]\n",
            "Saved 4126 anomalies to output/electronics_test_scan_anomalies_eps_0.55_min_samples_12_batch_size_100000.csv\n",
            "\n",
            "DBSCAN Results:\n",
            "  Total points: 493299\n",
            "  Noise points (anomalies): 4126\n",
            "  Clusters found: 19\n",
            "  Features used: helpful_votes, verified_purchase, has_images, rating_diff, reviewer_review_count, rating_vs_product_avg_abs\n"
          ]
        }
      ],
      "source": [
        "!python src/db_scan_anomaly_detection.py --csv-path my_data/test/electronics_test.csv --out output/electronics_test_scan_anomalies --eps 0.55 --min-samples 12 --batch-size 100000"
      ]
    },
    {
      "cell_type": "code",
      "source": [
        "!python src/db_scan_anomaly_detection.py --csv-path my_data/test/books_test.csv --out output/books_test_scan_anomalies --eps 0.6 --min-samples 12 --batch-size 100000"
      ],
      "metadata": {
        "id": "kLdH3rojFuL2",
        "colab": {
          "base_uri": "https://localhost:8080/"
        },
        "outputId": "39c0c63e-357f-49c3-c9d0-72d78ccc5236"
      },
      "execution_count": null,
      "outputs": [
        {
          "output_type": "stream",
          "name": "stdout",
          "text": [
            "Loading data from: my_data/test/books_test.csv\n",
            "Loaded 298409 reviews from CSV\n",
            "Building features from data...\n",
            "Created features of shape: (298409, 6)\n",
            "Features: helpful_votes, verified_purchase, has_images, rating_diff, reviewer_review_count, rating_vs_product_avg_abs\n",
            "Processing batches:   0% 0/3 [00:00<?, ?batch/s]Batch input size: 4.6MB\n",
            "After DBSCAN creation: +0.0GB\n"
          ]
        }
      ]
    },
    {
      "cell_type": "code",
      "source": [
        "!python src/db_scan_anomaly_detection.py --csv-path my_data/test/books_test.csv --out output/books_test_scan_anomalies --eps 0.7 --min-samples 12 --batch-size 100000"
      ],
      "metadata": {
        "id": "FSNc7XNwkr50"
      },
      "execution_count": null,
      "outputs": []
    },
    {
      "cell_type": "code",
      "execution_count": null,
      "metadata": {
        "id": "WQnmDNctlC1H"
      },
      "outputs": [],
      "source": [
        "!python src/db_scan_anomaly_detection.py --csv-path my_data/test/clothing_shoes_and_jewelry_test.csv --out output/clothing_shoes_and_jewelry_test_scan_anomalies --eps 0.7 --min-samples 12 --batch-size 100000"
      ]
    }
  ],
  "metadata": {
    "colab": {
      "provenance": [],
      "gpuType": "A100"
    },
    "kernelspec": {
      "display_name": "Python 3",
      "name": "python3"
    },
    "language_info": {
      "name": "python"
    },
    "accelerator": "GPU"
  },
  "nbformat": 4,
  "nbformat_minor": 0
}